{
  "metadata": {
    "kernelspec": {
      "name": "python",
      "display_name": "Python (Pyodide)",
      "language": "python"
    },
    "language_info": {
      "codemirror_mode": {
        "name": "python",
        "version": 3
      },
      "file_extension": ".py",
      "mimetype": "text/x-python",
      "name": "python",
      "nbconvert_exporter": "python",
      "pygments_lexer": "ipython3",
      "version": "3.8"
    }
  },
  "nbformat_minor": 4,
  "nbformat": 4,
  "cells": [
    {
      "cell_type": "code",
      "source": "import pandas as pd\nimport numpy as np\nfrom sklearn.model_selection import train_test_split\nfrom sklearn.linear_model import LinearRegression\nfrom sklearn.metrics import mean_squared_error, r2_score\nimport matplotlib.pyplot as plt",
      "metadata": {
        "trusted": true
      },
      "outputs": [],
      "execution_count": 2
    },
    {
      "cell_type": "code",
      "source": "data = pd.read_csv('laptopPrice.csv')",
      "metadata": {
        "trusted": true
      },
      "outputs": [],
      "execution_count": 3
    },
    {
      "cell_type": "code",
      "source": "print(data.head())",
      "metadata": {
        "trusted": true
      },
      "outputs": [
        {
          "name": "stdout",
          "text": "    brand processor_brand processor_name processor_gnrtn ram_gb ram_type  \\\n0    ASUS           Intel        Core i3            10th   4 GB     DDR4   \n1  Lenovo           Intel        Core i3            10th   4 GB     DDR4   \n2  Lenovo           Intel        Core i3            10th   4 GB     DDR4   \n3    ASUS           Intel        Core i5            10th   8 GB     DDR4   \n4    ASUS           Intel   Celeron Dual   Not Available   4 GB     DDR4   \n\n      ssd      hdd       os  os_bit graphic_card_gb  weight     warranty  \\\n0    0 GB  1024 GB  Windows  64-bit            0 GB  Casual  No warranty   \n1    0 GB  1024 GB  Windows  64-bit            0 GB  Casual  No warranty   \n2    0 GB  1024 GB  Windows  64-bit            0 GB  Casual  No warranty   \n3  512 GB     0 GB  Windows  32-bit            2 GB  Casual  No warranty   \n4    0 GB   512 GB  Windows  64-bit            0 GB  Casual  No warranty   \n\n  Touchscreen msoffice  Price   rating  Number of Ratings  Number of Reviews  \n0          No       No  34649  2 stars                  3                  0  \n1          No       No  38999  3 stars                 65                  5  \n2          No       No  39999  3 stars                  8                  1  \n3          No       No  69990  3 stars                  0                  0  \n4          No       No  26990  3 stars                  0                  0  \n",
          "output_type": "stream"
        }
      ],
      "execution_count": 4
    },
    {
      "cell_type": "code",
      "source": "data = pd.get_dummies(data, drop_first=True)\n\n# Display the converted dataset\nprint(\"Converted Data:\")\nprint(data.head())",
      "metadata": {
        "trusted": true
      },
      "outputs": [
        {
          "name": "stdout",
          "text": "Converted Data:\n   Price  Number of Ratings  Number of Reviews  brand_ASUS  brand_Avita  \\\n0  34649                  3                  0           1            0   \n1  38999                 65                  5           0            0   \n2  39999                  8                  1           0            0   \n3  69990                  0                  0           1            0   \n4  26990                  0                  0           1            0   \n\n   brand_DELL  brand_HP  brand_Lenovo  brand_MSI  brand_acer  ...  \\\n0           0         0             0          0           0  ...   \n1           0         0             1          0           0  ...   \n2           0         0             1          0           0  ...   \n3           0         0             0          0           0  ...   \n4           0         0             0          0           0  ...   \n\n   Touchscreen_Yes  msoffice_Yes  rating_2 stars  rating_3 stars  \\\n0                0             0               1               0   \n1                0             0               0               1   \n2                0             0               0               1   \n3                0             0               0               1   \n4                0             0               0               1   \n\n   rating_4 stars  rating_5 stars  Price_Range_2  Price_Range_3  \\\n0               0               0              0              0   \n1               0               0              0              0   \n2               0               0              0              0   \n3               0               0              1              0   \n4               0               0              0              0   \n\n   Price_Range_4  Price_Range_5  \n0              0              0  \n1              0              0  \n2              0              0  \n3              0              0  \n4              0              0  \n\n[5 rows x 68 columns]\n",
          "output_type": "stream"
        }
      ],
      "execution_count": 15
    },
    {
      "cell_type": "code",
      "source": "bins = [0, 50000, 100000, 150000, 200000, np.inf]  # Example price bins\nlabels = [1, 2, 3, 4, 5]  # Example labels for price ranges\ndata['Price_Range'] = pd.cut(data['Price'], bins=bins, labels=labels)",
      "metadata": {
        "trusted": true
      },
      "outputs": [],
      "execution_count": 18
    },
    {
      "cell_type": "code",
      "source": "X = data.drop(columns=['Price', 'Price_Range'])\ny = data['Price_Range']\n",
      "metadata": {
        "trusted": true
      },
      "outputs": [],
      "execution_count": 19
    },
    {
      "cell_type": "code",
      "source": "X_train, X_test, y_train, y_test = train_test_split(X, y, test_size=0.2, random_state=42)",
      "metadata": {
        "trusted": true
      },
      "outputs": [],
      "execution_count": 20
    },
    {
      "cell_type": "code",
      "source": "from sklearn.model_selection import train_test_split\nfrom sklearn.ensemble import RandomForestClassifier\nfrom sklearn.metrics import accuracy_score, classification_report, confusion_matrix\nimport matplotlib.pyplot as plt\n",
      "metadata": {
        "trusted": true
      },
      "outputs": [],
      "execution_count": 21
    },
    {
      "cell_type": "code",
      "source": "model = RandomForestClassifier(n_estimators=100, random_state=42)\n",
      "metadata": {
        "trusted": true
      },
      "outputs": [],
      "execution_count": 22
    },
    {
      "cell_type": "code",
      "source": "model.fit(X_train, y_train)\ny_pred = model.predict(X_test)\n\n# Evaluate the model\naccuracy = accuracy_score(y_test, y_pred)\nprint(f\"Accuracy: {accuracy:.2f}\")\n\nprint(\"Classification Report:\")\nprint(classification_report(y_test, y_pred))\n\nprint(\"Confusion Matrix:\")\nconf_matrix = confusion_matrix(y_test, y_pred)\nprint(conf_matrix)",
      "metadata": {
        "trusted": true
      },
      "outputs": [
        {
          "name": "stdout",
          "text": "Accuracy: 1.00\nClassification Report:\n              precision    recall  f1-score   support\n\n           1       1.00      1.00      1.00        50\n           2       1.00      1.00      1.00        79\n           3       1.00      1.00      1.00        28\n           4       1.00      1.00      1.00         4\n           5       1.00      1.00      1.00         4\n\n    accuracy                           1.00       165\n   macro avg       1.00      1.00      1.00       165\nweighted avg       1.00      1.00      1.00       165\n\nConfusion Matrix:\n[[50  0  0  0  0]\n [ 0 79  0  0  0]\n [ 0  0 28  0  0]\n [ 0  0  0  4  0]\n [ 0  0  0  0  4]]\n",
          "output_type": "stream"
        }
      ],
      "execution_count": 23
    },
    {
      "cell_type": "code",
      "source": "",
      "metadata": {
        "trusted": true
      },
      "outputs": [],
      "execution_count": null
    }
  ]
}